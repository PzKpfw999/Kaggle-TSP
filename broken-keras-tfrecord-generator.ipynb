{
 "cells": [
  {
   "cell_type": "code",
   "execution_count": 1,
   "id": "12c3b7c1",
   "metadata": {
    "_cell_guid": "b1076dfc-b9ad-4769-8c92-a6c4dae69d19",
    "_uuid": "8f2839f25d086af736a60e9eeb907d3b93b6e0e5",
    "execution": {
     "iopub.execute_input": "2022-04-20T01:52:34.509041Z",
     "iopub.status.busy": "2022-04-20T01:52:34.508537Z",
     "iopub.status.idle": "2022-04-20T01:52:41.131457Z",
     "shell.execute_reply": "2022-04-20T01:52:41.130594Z"
    },
    "papermill": {
     "duration": 6.634893,
     "end_time": "2022-04-20T01:52:41.134594",
     "exception": false,
     "start_time": "2022-04-20T01:52:34.499701",
     "status": "completed"
    },
    "tags": []
   },
   "outputs": [],
   "source": [
    "import pandas as pd\n",
    "import tensorflow as tf\n",
    "import tensorflow.keras as keras\n",
    "from matplotlib import pyplot as plt"
   ]
  },
  {
   "cell_type": "code",
   "execution_count": 2,
   "id": "0fbd9090",
   "metadata": {
    "execution": {
     "iopub.execute_input": "2022-04-20T01:52:41.148146Z",
     "iopub.status.busy": "2022-04-20T01:52:41.147848Z",
     "iopub.status.idle": "2022-04-20T01:52:41.158719Z",
     "shell.execute_reply": "2022-04-20T01:52:41.158035Z"
    },
    "papermill": {
     "duration": 0.020374,
     "end_time": "2022-04-20T01:52:41.161222",
     "exception": false,
     "start_time": "2022-04-20T01:52:41.140848",
     "status": "completed"
    },
    "tags": []
   },
   "outputs": [],
   "source": [
    "def load_jpeg(filename):\n",
    "    raw = tf.io.read_file(filename)\n",
    "    img = tf.image.decode_jpeg(raw,3)\n",
    "    return img\n",
    "\n",
    "#if smaller than target size only padding\n",
    "#if bigger then target size, resizing after padding \n",
    "def resize_img_tensor(img,target_size = (224,224)):\n",
    "    if len(img.shape) == 3 and img.shape[2] == 3:\n",
    "        h = img.shape[0]\n",
    "        w = img.shape[1]\n",
    "    elif len(img.shape) == 4 and img.shape[3] == 3:\n",
    "        h = img.shape[1]\n",
    "        w = img.shape[2]\n",
    "    else:\n",
    "        raise ValueError(\"img should be a 3D Tensor with shape=(None,None,3) or (None,None,None,4)\")\n",
    "    \n",
    "    if max(target_size) >= max(h,w):\n",
    "        scale = 1.0\n",
    "        offset_h = (target_size[0]-h)//2\n",
    "        offset_w = (target_size[1]-w)//2\n",
    "        ret = tf.image.pad_to_bounding_box(img, offset_h, offset_w, target_size[0], target_size[1])\n",
    "    else:\n",
    "        scale = max(h,w)/target_size[0]\n",
    "        ret = tf.image.resize_with_pad(img,target_size[0],target_size[1],'bicubic')\n",
    "    ret = tf.cast(ret,tf.float32)\n",
    "    return ret,scale\n"
   ]
  },
  {
   "cell_type": "code",
   "execution_count": 3,
   "id": "1a70820f",
   "metadata": {
    "execution": {
     "iopub.execute_input": "2022-04-20T01:52:41.174989Z",
     "iopub.status.busy": "2022-04-20T01:52:41.174385Z",
     "iopub.status.idle": "2022-04-20T01:52:41.184583Z",
     "shell.execute_reply": "2022-04-20T01:52:41.183608Z"
    },
    "papermill": {
     "duration": 0.019722,
     "end_time": "2022-04-20T01:52:41.186848",
     "exception": false,
     "start_time": "2022-04-20T01:52:41.167126",
     "status": "completed"
    },
    "tags": []
   },
   "outputs": [],
   "source": [
    "def generate_TFRecord(df,target_size,filename):\n",
    "    options = tf.io.TFRecordOptions(compression_type='ZLIB',compression_level=1)\n",
    "    count = 0\n",
    "    with tf.io.TFRecordWriter(filename,options) as writer:\n",
    "        for file,label in zip(df['filename'],df['distance']): \n",
    "            img = load_jpeg(INPUT_ROOT+file)\n",
    "            img,scale = resize_img_tensor(img,target_size)\n",
    "            img = img/127.5 - 1                                  #scale to [-1,1]\n",
    "            img = tf.io.serialize_tensor(img).numpy()\n",
    "            label = tf.convert_to_tensor(label/scale,tf.float32) #label are scaled according to the resize scale\n",
    "            feature = {\n",
    "                'img':tf.train.Feature(bytes_list=tf.train.BytesList(value=[img])),\n",
    "                'label':tf.train.Feature(float_list=tf.train.FloatList(value=[label]))\n",
    "            }\n",
    "            example = tf.train.Example(features=tf.train.Features(feature=feature)).SerializeToString()\n",
    "            writer.write(example)\n",
    "            count += 1\n",
    "    print(count,'\\n=========================================')"
   ]
  },
  {
   "cell_type": "code",
   "execution_count": 4,
   "id": "0eb4ea91",
   "metadata": {
    "execution": {
     "iopub.execute_input": "2022-04-20T01:52:41.200194Z",
     "iopub.status.busy": "2022-04-20T01:52:41.199885Z",
     "iopub.status.idle": "2022-04-20T02:11:18.797641Z",
     "shell.execute_reply": "2022-04-20T02:11:18.795887Z"
    },
    "papermill": {
     "duration": 1117.609361,
     "end_time": "2022-04-20T02:11:18.802169",
     "exception": false,
     "start_time": "2022-04-20T01:52:41.192808",
     "status": "completed"
    },
    "tags": []
   },
   "outputs": [
    {
     "name": "stderr",
     "output_type": "stream",
     "text": [
      "2022-04-20 01:52:41.260691: I tensorflow/core/common_runtime/process_util.cc:146] Creating new thread pool with default inter op setting: 2. Tune using inter_op_parallelism_threads for best performance.\n"
     ]
    },
    {
     "name": "stdout",
     "output_type": "stream",
     "text": [
      "15360 \n",
      "=========================================\n",
      "658 \n",
      "=========================================\n",
      "(448, 448)\n"
     ]
    }
   ],
   "source": [
    "INPUT_ROOT = '/kaggle/input/tsp-cv/'\n",
    "TARGET_SIZE = (448,448)\n",
    "AUTOTUNE = tf.data.AUTOTUNE\n",
    "\n",
    "train_csv_path = INPUT_ROOT+'train.csv'\n",
    "test_csv_path = INPUT_ROOT+'test.csv'\n",
    "train_df = pd.read_csv(train_csv_path)\n",
    "test_df = pd.read_csv(test_csv_path)\n",
    "\n",
    "generate_TFRecord(train_df[:-658],TARGET_SIZE,'tsp_train.tfrecord')\n",
    "generate_TFRecord(train_df[-658:],TARGET_SIZE,'tsp_val.tfrecord')\n",
    "print(TARGET_SIZE)"
   ]
  }
 ],
 "metadata": {
  "kernelspec": {
   "display_name": "Python 3",
   "language": "python",
   "name": "python3"
  },
  "language_info": {
   "codemirror_mode": {
    "name": "ipython",
    "version": 3
   },
   "file_extension": ".py",
   "mimetype": "text/x-python",
   "name": "python",
   "nbconvert_exporter": "python",
   "pygments_lexer": "ipython3",
   "version": "3.7.12"
  },
  "papermill": {
   "default_parameters": {},
   "duration": 1138.423948,
   "end_time": "2022-04-20T02:11:21.738352",
   "environment_variables": {},
   "exception": null,
   "input_path": "__notebook__.ipynb",
   "output_path": "__notebook__.ipynb",
   "parameters": {},
   "start_time": "2022-04-20T01:52:23.314404",
   "version": "2.3.4"
  }
 },
 "nbformat": 4,
 "nbformat_minor": 5
}
